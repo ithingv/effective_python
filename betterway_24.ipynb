{
 "cells": [
  {
   "cell_type": "code",
   "execution_count": 1,
   "metadata": {},
   "outputs": [
    {
     "name": "stdout",
     "output_type": "stream",
     "text": [
      "2022-01-12 14:38:34.388408: 안녕!\n",
      "2022-01-12 14:38:34.388408: 다시 안녕!\n"
     ]
    }
   ],
   "source": [
    "from time import sleep\n",
    "from datetime import datetime\n",
    "\n",
    "def log(message, when=datetime.now()):\n",
    "    print(f'{when}: {message}')\n",
    "\n",
    "log('안녕!')\n",
    "sleep(0.1)\n",
    "log('다시 안녕!')"
   ]
  },
  {
   "cell_type": "code",
   "execution_count": 2,
   "metadata": {},
   "outputs": [
    {
     "name": "stdout",
     "output_type": "stream",
     "text": [
      "2022-01-12 14:38:34.547259: 안녕!\n",
      "2022-01-12 14:38:34.651521: 다시 안녕!\n"
     ]
    }
   ],
   "source": [
    "#\n",
    "def log(message, when=None):\n",
    "    \"\"\"메시지와 타임스탬프를 로그에 남긴다.\n",
    "\n",
    "    Args:\n",
    "        message: 출력할 메시지.\n",
    "        when: 메시지가 발생한 시각(datetime).\n",
    "            디폴트 값은 현재 시간이다.\n",
    "    \"\"\"\n",
    "    if when is None:\n",
    "        when = datetime.now()\n",
    "    print(f'{when}: {message}')\n",
    "\n",
    "log('안녕!')\n",
    "sleep(0.1)\n",
    "log('다시 안녕!')"
   ]
  },
  {
   "cell_type": "code",
   "execution_count": 3,
   "metadata": {},
   "outputs": [
    {
     "name": "stdout",
     "output_type": "stream",
     "text": [
      "Foo: {'stuff': 5, 'meep': 1}\n",
      "Bar: {'stuff': 5, 'meep': 1}\n"
     ]
    }
   ],
   "source": [
    "import json\n",
    "\n",
    "def decode(data, default={}):\n",
    "    try:\n",
    "        return json.loads(data)\n",
    "    except ValueError:\n",
    "        return default\n",
    "\n",
    "foo = decode('잘못된 데이터')\n",
    "foo['stuff'] = 5\n",
    "bar = decode('또 잘못된 데이터')\n",
    "bar['meep'] = 1\n",
    "print('Foo:', foo)\n",
    "print('Bar:', bar)\n",
    "\n",
    "assert foo is bar"
   ]
  },
  {
   "cell_type": "code",
   "execution_count": 4,
   "metadata": {},
   "outputs": [
    {
     "name": "stdout",
     "output_type": "stream",
     "text": [
      "Foo: {'stuff': 5}\n",
      "Bar: {'meep': 1}\n"
     ]
    }
   ],
   "source": [
    "#\n",
    "def decode(data, default=None):\n",
    "    \"\"\"문자열에로부터 JSON 데이터를 읽어온다\n",
    "\n",
    "    Args:\n",
    "        data: 디코딩할 JSON 데이터.\n",
    "        default: 디코딩 실패시 반환할 값이다.\n",
    "            디폴트 값은 빈 딕셔너리다.\n",
    "    \"\"\"\n",
    "    try:\n",
    "        return json.loads(data)\n",
    "    except ValueError:\n",
    "        if default is None:\n",
    "            default = {}\n",
    "        return default\n",
    "\n",
    "\n",
    "foo = decode('잘못된 데이터')\n",
    "foo['stuff'] = 5\n",
    "bar = decode('또 잘못된 데이터')\n",
    "bar['meep'] = 1\n",
    "print('Foo:', foo)\n",
    "print('Bar:', bar)\n",
    "assert foo is not bar"
   ]
  },
  {
   "cell_type": "code",
   "execution_count": 6,
   "metadata": {},
   "outputs": [],
   "source": [
    "from typing import Optional\n",
    "\n",
    "def log_typed(message: str,\n",
    "              when: Optional[datetime]=None) -> None:\n",
    "    \"\"\"메시지와 타임스탬프를 로그에 남긴다.\n",
    "\n",
    "    Args:\n",
    "        message: 출력할 메시지.\n",
    "        when: 메시지가 발생한 시각(datetime).\n",
    "            디폴트 값은 현재 시간이다.\n",
    "    \"\"\"\n",
    "    if when is None:\n",
    "        when = datetime.now()\n",
    "    print(f'{when}: {message}')"
   ]
  },
  {
   "cell_type": "code",
   "execution_count": null,
   "metadata": {},
   "outputs": [],
   "source": []
  }
 ],
 "metadata": {
  "kernelspec": {
   "display_name": "Python 3",
   "language": "python",
   "name": "python3"
  },
  "language_info": {
   "codemirror_mode": {
    "name": "ipython",
    "version": 3
   },
   "file_extension": ".py",
   "mimetype": "text/x-python",
   "name": "python",
   "nbconvert_exporter": "python",
   "pygments_lexer": "ipython3",
   "version": "3.8.5"
  }
 },
 "nbformat": 4,
 "nbformat_minor": 4
}
