{
 "cells": [
  {
   "cell_type": "markdown",
   "metadata": {},
   "source": [
    "# 위치로만 인자를 지정하게 하거나 키워드로만 인자를 지정하게 해서 함수 호출을 명확하게 만들라"
   ]
  },
  {
   "cell_type": "code",
   "execution_count": 1,
   "metadata": {},
   "outputs": [],
   "source": [
    "def safe_division(number, divisor,\n",
    "                  ignore_overflow,\n",
    "                  ignore_zero_division):\n",
    "    try:\n",
    "        return number / divisor\n",
    "    except OverflowError:\n",
    "        if ignore_overflow:\n",
    "            return 0\n",
    "        else:\n",
    "            raise\n",
    "    except ZeroDivisionError:\n",
    "        if ignore_zero_division:\n",
    "            return float('inf')\n",
    "        else:\n",
    "            raise"
   ]
  },
  {
   "cell_type": "code",
   "execution_count": 2,
   "metadata": {},
   "outputs": [
    {
     "name": "stdout",
     "output_type": "stream",
     "text": [
      "0\n",
      "inf\n"
     ]
    }
   ],
   "source": [
    "result = safe_division(1.0, 10**500, True, False)\n",
    "print(result)\n",
    "\n",
    "result = safe_division(1.0, 0, False, True)\n",
    "print(result)"
   ]
  },
  {
   "cell_type": "code",
   "execution_count": 4,
   "metadata": {},
   "outputs": [
    {
     "name": "stdout",
     "output_type": "stream",
     "text": [
      "0\n",
      "inf\n"
     ]
    }
   ],
   "source": [
    "def safe_division_b(number, divisor,\n",
    "                    ignore_overflow=False,       # 변경\n",
    "                    ignore_zero_division=False): # 변경\n",
    "    try:\n",
    "        return number / divisor\n",
    "    except OverflowError:\n",
    "        if ignore_overflow:\n",
    "            return 0\n",
    "        else:\n",
    "            raise\n",
    "    except ZeroDivisionError:\n",
    "        if ignore_zero_division:\n",
    "            return float('inf')\n",
    "        else:\n",
    "            raise\n",
    "\n",
    "result = safe_division_b(1.0, 10**500, ignore_overflow=True)\n",
    "print(result)\n",
    "\n",
    "result = safe_division_b(1.0, 0, ignore_zero_division=True)\n",
    "print(result)\n",
    "\n",
    "assert safe_division_b(1.0, 10**500, True, False) == 0"
   ]
  },
  {
   "cell_type": "code",
   "execution_count": 5,
   "metadata": {},
   "outputs": [],
   "source": [
    "def safe_division_c(number, divisor, *,         # 변경\n",
    "                    ignore_overflow=False,\n",
    "                    ignore_zero_division=False):\n",
    "    try:\n",
    "        return number / divisor\n",
    "    except OverflowError:\n",
    "        if ignore_overflow:\n",
    "            return 0\n",
    "        else:\n",
    "            raise\n",
    "    except ZeroDivisionError:\n",
    "        if ignore_zero_division:\n",
    "            return float('inf')\n",
    "        else:\n",
    "            raise"
   ]
  },
  {
   "cell_type": "code",
   "execution_count": 6,
   "metadata": {},
   "outputs": [],
   "source": [
    "# 오류가 나는 부분. 오류를 보고 싶으면 커멘트를 해제할것\n",
    "#safe_division_c(1.0, 10**500, True, False)"
   ]
  },
  {
   "cell_type": "code",
   "execution_count": 7,
   "metadata": {},
   "outputs": [],
   "source": [
    "result = safe_division_c(1.0, 0, ignore_zero_division=True)\n",
    "assert result == float('inf')\n",
    "\n",
    "try:\n",
    "    result = safe_division_c(1.0, 0)\n",
    "except ZeroDivisionError:\n",
    "    pass # 예상대로 작동함\n",
    "\n",
    "assert safe_division_c(number=2, divisor=5) == 0.4\n",
    "assert safe_division_c(divisor=5, number=2) == 0.4\n",
    "assert safe_division_c(2, divisor=5) == 0.4\n",
    "\n",
    "def safe_division_c(numerator, denominator, *,    # 변경\n",
    "                    ignore_overflow=False,\n",
    "                    ignore_zero_division=False):\n",
    "    try:\n",
    "        return numerator / denominator\n",
    "    except OverflowError:\n",
    "        if ignore_overflow:\n",
    "            return 0\n",
    "        else:\n",
    "            raise\n",
    "    except ZeroDivisionError:\n",
    "        if ignore_zero_division:\n",
    "            return float('inf')\n",
    "        else:\n",
    "            raise"
   ]
  },
  {
   "cell_type": "code",
   "execution_count": 8,
   "metadata": {},
   "outputs": [],
   "source": [
    "# 오류가 나는 부분. 오류를 보고 싶으면 커멘트를 해제할것\n",
    "#safe_division_c(number=2, divisor=5)"
   ]
  },
  {
   "cell_type": "code",
   "execution_count": 9,
   "metadata": {},
   "outputs": [],
   "source": [
    "def safe_division_d(numerator, denominator, /, *, # 변경\n",
    "                    ignore_overflow=False,\n",
    "                    ignore_zero_division=False):\n",
    "    try:\n",
    "        return numerator / denominator\n",
    "    except OverflowError:\n",
    "        if ignore_overflow:\n",
    "            return 0\n",
    "        else:\n",
    "            raise\n",
    "    except ZeroDivisionError:\n",
    "        if ignore_zero_division:\n",
    "            return float('inf')\n",
    "        else:\n",
    "            raise\n",
    "\n",
    "assert safe_division_d(2, 5) == 0.4"
   ]
  },
  {
   "cell_type": "code",
   "execution_count": 10,
   "metadata": {},
   "outputs": [],
   "source": [
    "# 오류가 나는 부분. 오류를 보고 싶으면 커멘트를 해제할것\n",
    "#safe_division_d(numerator=2, denominator=5)"
   ]
  },
  {
   "cell_type": "code",
   "execution_count": 12,
   "metadata": {},
   "outputs": [
    {
     "name": "stdout",
     "output_type": "stream",
     "text": [
      "3.1428571429\n",
      "3.14286\n",
      "3.14\n"
     ]
    }
   ],
   "source": [
    "def safe_division_e(numerator, denominator, /,\n",
    "                    ndigits=10, *,                 # 변경\n",
    "                    ignore_overflow=False,\n",
    "                    ignore_zero_division=False):\n",
    "    try:\n",
    "        fraction = numerator / denominator         # 변경\n",
    "        return round(fraction, ndigits)            # 변경\n",
    "    except OverflowError:\n",
    "        if ignore_overflow:\n",
    "            return 0\n",
    "        else:\n",
    "            raise\n",
    "    except ZeroDivisionError:\n",
    "        if ignore_zero_division:\n",
    "            return float('inf')\n",
    "        else:\n",
    "            raise\n",
    "\n",
    "result = safe_division_e(22, 7)\n",
    "print(result)\n",
    "\n",
    "result = safe_division_e(22, 7, 5)\n",
    "print(result)\n",
    "\n",
    "result = safe_division_e(22, 7, ndigits=2)\n",
    "print(result)"
   ]
  }
 ],
 "metadata": {
  "interpreter": {
   "hash": "c9dc03230f5a22f1a8ec493563d5aaf33aedb0c89b727e26176caf1551ae8176"
  },
  "kernelspec": {
   "display_name": "Python 3.9.7 64-bit",
   "language": "python",
   "name": "python3"
  },
  "language_info": {
   "codemirror_mode": {
    "name": "ipython",
    "version": 3
   },
   "file_extension": ".py",
   "mimetype": "text/x-python",
   "name": "python",
   "nbconvert_exporter": "python",
   "pygments_lexer": "ipython3",
   "version": "3.9.7"
  },
  "orig_nbformat": 4
 },
 "nbformat": 4,
 "nbformat_minor": 2
}
